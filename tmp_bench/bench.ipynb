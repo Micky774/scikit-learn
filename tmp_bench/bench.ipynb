{
 "cells": [
  {
   "cell_type": "code",
   "execution_count": 1,
   "metadata": {},
   "outputs": [],
   "source": [
    "import numpy as np\n",
    "import pandas as pd\n",
    "from sklearn.manifold import _mds as mds\n",
    "from time import time"
   ]
  },
  {
   "cell_type": "code",
   "execution_count": 2,
   "metadata": {},
   "outputs": [],
   "source": [
    "def generate_euclidean(size):\n",
    "    Y = np.random.randint(-100, 100, (size, 2))\n",
    "    M = mds.euclidean_distances(Y)\n",
    "    return M"
   ]
  },
  {
   "cell_type": "code",
   "execution_count": null,
   "metadata": {},
   "outputs": [],
   "source": [
    "def bench(func, args):\n",
    "    res = np.empty((len(args), 2))\n",
    "    start = time()\n",
    "    for i, arg in enumerate(args):\n",
    "        res[i] = func(arg)[1]\n",
    "    dt = time()-start\n",
    "    return {'dt':dt, 'avg stress': np.average(res), 'max stress':np.max(res), 'stress variance':np.var(res)}\n",
    "\n",
    "headers = ['dt', 'avg stress', 'max stress', 'stress variance']\n",
    "params = [(5, 100), (50, 50), (250, 25), (1000, 5)]\n",
    "#params = [(4, 1)]\n",
    "table_svd = []\n",
    "table_smacof = []\n",
    "table_diff = []\n",
    "\n",
    "for i, (size, reps) in enumerate(params):\n",
    "    head = f'{size}x{size} ({reps})'\n",
    "    args = [generate_euclidean(size) for j in range(reps)]\n",
    "    print('benching tuple {} ({}/{})'.format((size, reps), i+1, len(params)))\n",
    "    stats_svd = bench(mds.svd_scaler, args)\n",
    "    stats_smacof = bench(mds.smacof, args)\n",
    "    table_svd.append(stats_svd)\n",
    "    table_smacof.append(stats_smacof)\n",
    "\n",
    "df_svd = pd.DataFrame(table_svd, columns=headers)\n",
    "df_smacof = pd.DataFrame(table_smacof, columns=headers)\n",
    "print('SVD:')\n",
    "print(df_svd)\n",
    "print('\\nSMACOF:')\n",
    "print(df_smacof)\n",
    "print('\\nSMACOF/SVD:')\n",
    "print(df_svd/df_smacof)"
   ]
  }
 ],
 "metadata": {
  "interpreter": {
   "hash": "146110dc17f39bf2eaf4afb2b459894be2a7189440f0c9917d0223fc286b6bb2"
  },
  "kernelspec": {
   "display_name": "Python 3.9.7 64-bit ('scikit-dev': conda)",
   "language": "python",
   "name": "python3"
  },
  "language_info": {
   "codemirror_mode": {
    "name": "ipython",
    "version": 3
   },
   "file_extension": ".py",
   "mimetype": "text/x-python",
   "name": "python",
   "nbconvert_exporter": "python",
   "pygments_lexer": "ipython3",
   "version": "3.9.7"
  },
  "orig_nbformat": 4
 },
 "nbformat": 4,
 "nbformat_minor": 2
}
